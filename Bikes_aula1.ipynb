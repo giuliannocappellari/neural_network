{
  "cells": [
    {
      "cell_type": "markdown",
      "metadata": {
        "id": "3mIyGFMaMoY1"
      },
      "source": [
        "# A base de dados"
      ]
    },
    {
      "cell_type": "markdown",
      "metadata": {
        "id": "-qicsTOYMoY7"
      },
      "source": [
        "### Carregando o dataset"
      ]
    },
    {
      "cell_type": "code",
      "execution_count": 1,
      "metadata": {
        "id": "FmfvWRfcMoY8",
        "outputId": "d78f826f-395f-42b0-81d9-60e11df1e7cf",
        "colab": {
          "resources": {
            "http://localhost:8080/nbextensions/google.colab/files.js": {
              "data": "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",
              "ok": true,
              "headers": [
                [
                  "content-type",
                  "application/javascript"
                ]
              ],
              "status": 200,
              "status_text": ""
            }
          },
          "base_uri": "https://localhost:8080/",
          "height": 111
        }
      },
      "outputs": [
        {
          "output_type": "display_data",
          "data": {
            "text/html": [
              "\n",
              "     <input type=\"file\" id=\"files-918d9bdb-29d0-48cc-b77e-732edd8b94a2\" name=\"files[]\" multiple disabled\n",
              "        style=\"border:none\" />\n",
              "     <output id=\"result-918d9bdb-29d0-48cc-b77e-732edd8b94a2\">\n",
              "      Upload widget is only available when the cell has been executed in the\n",
              "      current browser session. Please rerun this cell to enable.\n",
              "      </output>\n",
              "      <script src=\"/nbextensions/google.colab/files.js\"></script> "
            ],
            "text/plain": [
              "<IPython.core.display.HTML object>"
            ]
          },
          "metadata": {}
        },
        {
          "output_type": "stream",
          "name": "stdout",
          "text": [
            "Saving Bicicletas.csv to Bicicletas.csv\n"
          ]
        },
        {
          "output_type": "execute_result",
          "data": {
            "text/plain": [
              "{'Bicicletas.csv': b'clima,temperatura,bicicletas_alugadas\\n2,0.363625,985\\n2,0.35373899999999997,801\\n1,0.189405,1349\\n1,0.21212199999999998,1562\\n1,0.22926999999999997,1600\\n1,0.23320900000000003,1606\\n2,0.208839,1510\\n2,0.162254,959\\n1,0.116175,822\\n1,0.15088800000000002,1321\\n2,0.19146400000000002,1263\\n1,0.160473,1162\\n1,0.150883,1406\\n1,0.188413,1421\\n2,0.248112,1248\\n1,0.234217,1204\\n2,0.176771,1000\\n2,0.23233299999999998,683\\n2,0.29842199999999997,1650\\n2,0.25505,1927\\n1,0.157833,1543\\n1,0.0790696,981\\n1,0.09883910000000001,986\\n1,0.11793,1416\\n2,0.234526,1985\\n3,0.2036,506\\n1,0.2197,431\\n2,0.22331700000000002,1167\\n1,0.212126,1098\\n1,0.250322,1096\\n2,0.18625,1501\\n2,0.23453000000000002,1360\\n2,0.254417,1526\\n1,0.177878,1550\\n2,0.22858699999999998,1708\\n2,0.243058,1005\\n1,0.291671,1623\\n1,0.303658,1712\\n1,0.198246,1530\\n2,0.144283,1605\\n1,0.14954800000000001,1538\\n1,0.213509,1746\\n1,0.232954,1472\\n1,0.324113,1589\\n1,0.39835,1913\\n1,0.254274,1815\\n1,0.3162,2115\\n1,0.428658,2475\\n1,0.511983,2927\\n1,0.391404,1635\\n1,0.27733,1812\\n2,0.284075,1107\\n1,0.186033,1450\\n1,0.24571700000000002,1917\\n2,0.289191,1807\\n2,0.350461,1461\\n1,0.282192,1969\\n1,0.351109,2402\\n2,0.400118,1446\\n1,0.263879,1851\\n1,0.320071,2134\\n1,0.200133,1685\\n2,0.255679,1944\\n2,0.378779,2077\\n2,0.366252,605\\n1,0.238461,1872\\n1,0.3024,2133\\n2,0.286608,1891\\n3,0.385668,623\\n2,0.305,1977\\n1,0.32575,2132\\n1,0.380091,2417\\n1,0.332,2046\\n2,0.318178,2056\\n2,0.36693000000000003,2192\\n1,0.410333,2744\\n1,0.5270090000000001,3239\\n1,0.466525,3117\\n1,0.32575,2471\\n2,0.409735,2077\\n1,0.44064200000000003,2703\\n2,0.337939,2121\\n2,0.270833,1865\\n1,0.256312,2210\\n1,0.257571,2496\\n2,0.250339,1693\\n1,0.25757399999999997,2028\\n1,0.292908,2425\\n2,0.29735,1536\\n3,0.257575,1685\\n2,0.283454,2227\\n2,0.315637,2252\\n1,0.378767,3249\\n1,0.542929,3115\\n2,0.39835,1795\\n1,0.387608,2808\\n1,0.433696,3141\\n2,0.324479,1471\\n2,0.34152899999999997,2455\\n2,0.426737,2895\\n2,0.565217,3348\\n2,0.493054,2034\\n2,0.417283,2162\\n1,0.462742,3267\\n1,0.441913,3126\\n3,0.425492,795\\n1,0.445696,3744\\n1,0.503146,3429\\n2,0.48925799999999997,3204\\n1,0.564392,3944\\n1,0.453892,4189\\n2,0.321954,1683\\n2,0.450121,4036\\n2,0.551763,4191\\n1,0.5745,4073\\n1,0.594083,4400\\n2,0.575142,3872\\n2,0.578929,4058\\n1,0.497463,4595\\n1,0.464021,5312\\n2,0.448204,3351\\n2,0.532833,4401\\n2,0.582079,4451\\n2,0.40465,2633\\n1,0.441917,4433\\n1,0.474117,4608\\n1,0.512621,4714\\n1,0.518933,4333\\n1,0.525246,4362\\n1,0.522721,4803\\n1,0.5284,4182\\n1,0.523363,4864\\n2,0.4943,4105\\n2,0.500629,3409\\n2,0.536,4553\\n1,0.550512,3958\\n2,0.538529,4123\\n2,0.527158,3855\\n2,0.510742,4575\\n1,0.529042,4917\\n1,0.571975,5805\\n1,0.5745,4660\\n2,0.590296,4274\\n2,0.604813,4492\\n1,0.615542,4978\\n1,0.654688,4677\\n1,0.637008,4679\\n1,0.612379,4758\\n1,0.61555,4788\\n1,0.671092,4098\\n1,0.725383,3982\\n2,0.720967,3974\\n1,0.643942,4968\\n1,0.587133,5312\\n1,0.594696,5342\\n2,0.616804,4906\\n1,0.621858,4548\\n1,0.65595,4833\\n1,0.727279,4401\\n2,0.757579,3915\\n1,0.703292,4586\\n1,0.678038,4966\\n1,0.643325,4460\\n1,0.601654,5020\\n1,0.591546,4891\\n1,0.587754,5180\\n2,0.595346,3767\\n1,0.600383,4844\\n1,0.643954,5119\\n2,0.645846,4744\\n2,0.595346,4010\\n2,0.637646,4835\\n1,0.693829,4507\\n2,0.693833,4790\\n1,0.656583,4991\\n1,0.643313,5202\\n1,0.637629,5305\\n2,0.637004,4708\\n1,0.692558,4648\\n1,0.654688,5225\\n1,0.637008,5515\\n1,0.652162,5362\\n1,0.667308,5119\\n2,0.668575,4649\\n2,0.665417,6043\\n1,0.696338,4665\\n1,0.685633,4629\\n1,0.686871,4592\\n2,0.6704829999999999,4040\\n1,0.664158,5336\\n1,0.690025,4881\\n1,0.729804,4086\\n1,0.739275,4258\\n1,0.689404,4342\\n1,0.635104,5084\\n1,0.624371,5538\\n1,0.638263,5923\\n1,0.669833,5302\\n1,0.703925,4458\\n1,0.747479,4541\\n1,0.74685,4332\\n2,0.826371,3784\\n1,0.8408959999999999,3387\\n1,0.804287,3285\\n1,0.794829,3606\\n1,0.720958,3840\\n1,0.696979,4590\\n1,0.690667,4656\\n1,0.7399,4390\\n1,0.785967,3846\\n1,0.728537,4475\\n1,0.729796,4302\\n1,0.703292,4266\\n1,0.707071,4845\\n2,0.679937,3574\\n2,0.664788,4576\\n1,0.656567,4866\\n2,0.676154,4294\\n1,0.715292,3785\\n1,0.703283,4326\\n1,0.724121,4602\\n1,0.684983,4780\\n1,0.651521,4792\\n1,0.654042,4905\\n2,0.645858,4150\\n2,0.624388,3820\\n1,0.616167,4338\\n1,0.645837,4725\\n1,0.666671,4694\\n1,0.662258,3805\\n2,0.633221,4153\\n1,0.648996,5191\\n1,0.675525,3873\\n1,0.638254,4758\\n1,0.606067,5895\\n1,0.630692,5130\\n2,0.645854,3542\\n1,0.659733,4661\\n2,0.635556,1115\\n1,0.6479590000000001,4334\\n1,0.607958,4634\\n1,0.594704,5204\\n1,0.611121,5058\\n1,0.614921,5115\\n2,0.604808,4727\\n1,0.633213,4484\\n1,0.665429,4940\\n2,0.625646,3351\\n3,0.5152,2710\\n3,0.544229,1996\\n3,0.555361,1842\\n2,0.578946,3544\\n1,0.607962,5345\\n1,0.609229,5046\\n1,0.60213,4713\\n1,0.603554,4763\\n1,0.6269,4785\\n2,0.553671,3659\\n2,0.461475,4760\\n2,0.478512,4511\\n1,0.490537,4274\\n2,0.529675,4539\\n2,0.532217,3641\\n2,0.5505329999999999,4352\\n2,0.554963,4795\\n2,0.522125,2395\\n2,0.564412,5423\\n2,0.572637,5010\\n2,0.589042,4630\\n2,0.574525,4120\\n2,0.575158,3907\\n1,0.574512,4839\\n1,0.544829,5202\\n2,0.41286300000000004,2429\\n2,0.345317,2918\\n2,0.392046,3570\\n1,0.472858,4456\\n1,0.527138,4826\\n1,0.480425,4765\\n1,0.504404,4985\\n1,0.513242,5409\\n1,0.523983,5511\\n1,0.542925,5117\\n2,0.546096,4563\\n3,0.517717,2416\\n2,0.551804,2913\\n2,0.529675,3644\\n1,0.498725,5217\\n1,0.503154,5041\\n1,0.510725,4570\\n2,0.522721,4748\\n3,0.513848,2424\\n1,0.466525,4195\\n1,0.42359600000000003,4304\\n1,0.425492,4308\\n1,0.422333,4381\\n1,0.457067,4187\\n1,0.463375,4687\\n2,0.472846,3894\\n2,0.457046,2659\\n2,0.318812,3747\\n3,0.227913,627\\n1,0.321329,3331\\n1,0.356063,3669\\n1,0.397088,4068\\n1,0.390133,4186\\n1,0.405921,3974\\n2,0.40339200000000003,4046\\n1,0.323854,3926\\n1,0.362358,3649\\n1,0.400871,4035\\n1,0.412246,4205\\n1,0.40907899999999997,4109\\n2,0.373721,2933\\n1,0.306817,3368\\n1,0.357942,4067\\n1,0.43055,3717\\n1,0.524612,4486\\n2,0.507579,4195\\n3,0.451988,1817\\n2,0.323221,3053\\n1,0.272721,3392\\n1,0.32448299999999997,3663\\n2,0.457058,3520\\n3,0.445062,2765\\n3,0.421696,1607\\n2,0.430537,2566\\n1,0.372471,1495\\n1,0.380671,2792\\n1,0.385087,3068\\n1,0.4558,3071\\n1,0.490122,3867\\n2,0.451375,2914\\n1,0.311221,3613\\n1,0.305554,3727\\n1,0.331433,3940\\n1,0.310604,3614\\n1,0.3491,3485\\n2,0.393925,3811\\n3,0.4564,2594\\n3,0.400246,705\\n1,0.256938,3322\\n1,0.317542,3620\\n1,0.266412,3190\\n1,0.253154,2743\\n1,0.270196,3310\\n1,0.301138,3523\\n2,0.338362,3740\\n2,0.41223699999999996,3709\\n2,0.359825,3577\\n2,0.249371,2739\\n1,0.245579,2431\\n1,0.280933,3403\\n2,0.396454,3750\\n2,0.428017,2660\\n2,0.426121,3068\\n1,0.377513,2209\\n1,0.299242,1011\\n1,0.279961,754\\n1,0.315535,1317\\n2,0.327633,1162\\n1,0.279974,2302\\n1,0.263892,2423\\n1,0.318812,2999\\n1,0.414121,2485\\n1,0.375621,2294\\n1,0.252304,1951\\n1,0.126275,2236\\n2,0.11933699999999998,2368\\n1,0.278412,3272\\n1,0.340267,4098\\n1,0.390779,4521\\n1,0.340258,3425\\n2,0.247479,2376\\n1,0.318826,3598\\n2,0.282821,2177\\n2,0.381938,4097\\n1,0.249362,3214\\n1,0.183087,2493\\n1,0.161625,2311\\n1,0.190663,2298\\n2,0.36427800000000005,2935\\n1,0.275254,3376\\n1,0.190038,3292\\n2,0.220958,3163\\n2,0.174875,1301\\n2,0.16225,1977\\n2,0.243058,2432\\n1,0.349108,4339\\n1,0.294821,4270\\n2,0.35605,4075\\n2,0.415383,3456\\n1,0.326379,4023\\n1,0.272721,3243\\n1,0.262625,3624\\n1,0.381317,4509\\n1,0.466538,4579\\n2,0.398971,3761\\n1,0.309346,4151\\n2,0.272725,2832\\n2,0.264521,2947\\n1,0.296426,3784\\n1,0.361104,4375\\n2,0.266421,2802\\n1,0.261988,3830\\n2,0.293558,3831\\n3,0.210867,2169\\n1,0.101658,1529\\n1,0.227913,3422\\n2,0.333946,3922\\n1,0.35162899999999997,4169\\n2,0.330162,3005\\n1,0.35162899999999997,4154\\n1,0.355425,4318\\n2,0.265788,2689\\n1,0.273391,3129\\n1,0.295113,3777\\n1,0.392667,4773\\n1,0.444446,5062\\n2,0.41097100000000003,3487\\n1,0.255675,2732\\n1,0.268308,3389\\n1,0.357954,4322\\n1,0.353525,4363\\n2,0.34847,1834\\n1,0.475371,4990\\n2,0.359842,3194\\n2,0.413492,4066\\n1,0.303021,3423\\n1,0.241171,3333\\n1,0.255042,3956\\n1,0.3851,4916\\n1,0.524604,5382\\n2,0.397083,4569\\n1,0.277767,4118\\n1,0.35967,4911\\n1,0.459592,5298\\n1,0.542929,5847\\n1,0.548617,6312\\n1,0.532825,6192\\n2,0.436229,4378\\n2,0.505046,7836\\n2,0.46399999999999997,5892\\n1,0.532821,6153\\n1,0.538533,6093\\n2,0.513258,6230\\n1,0.531567,6871\\n2,0.570067,8362\\n2,0.48673299999999997,3372\\n2,0.437488,4996\\n1,0.43875,5558\\n1,0.315654,5102\\n1,0.47095,5698\\n1,0.482304,6133\\n2,0.375621,5459\\n2,0.42170799999999997,6235\\n2,0.41728699999999996,6041\\n1,0.42751300000000003,5936\\n1,0.461483,6772\\n1,0.53345,6436\\n1,0.431163,6457\\n1,0.39076700000000003,6460\\n1,0.426129,6857\\n1,0.492425,5169\\n1,0.476638,5585\\n1,0.436233,5918\\n1,0.33727399999999996,4862\\n1,0.387604,5409\\n1,0.43180799999999997,6398\\n1,0.487996,7460\\n1,0.573875,7132\\n1,0.614925,6370\\n1,0.598487,6691\\n2,0.457038,4367\\n1,0.493046,6565\\n1,0.515775,7290\\n1,0.542921,6624\\n3,0.389504,1027\\n2,0.301125,3214\\n1,0.405283,5633\\n1,0.470317,6196\\n2,0.483583,5026\\n1,0.452637,6233\\n2,0.377504,4220\\n1,0.450121,6304\\n2,0.457696,5572\\n2,0.577021,5740\\n1,0.537896,6169\\n2,0.537242,6421\\n1,0.590917,6296\\n2,0.584608,6883\\n2,0.546737,6359\\n2,0.527142,6273\\n2,0.557471,5728\\n2,0.553025,4717\\n1,0.49178299999999997,6572\\n1,0.520833,7030\\n1,0.544817,7429\\n1,0.585238,6118\\n2,0.5499,2843\\n2,0.576404,5115\\n1,0.595975,7424\\n1,0.572613,7384\\n1,0.551121,7639\\n1,0.566908,8294\\n1,0.583967,7129\\n2,0.565667,4359\\n2,0.580825,6073\\n2,0.584612,5260\\n1,0.6067,6770\\n1,0.627529,6734\\n1,0.642696,6536\\n1,0.641425,6591\\n1,0.6793,6043\\n1,0.672992,5743\\n2,0.611129,6855\\n1,0.631329,7338\\n2,0.607962,4127\\n1,0.566288,8120\\n1,0.575133,7641\\n1,0.578283,6998\\n2,0.525892,7001\\n1,0.542292,7055\\n1,0.569442,7494\\n1,0.597862,7736\\n1,0.648367,7498\\n1,0.663517,6598\\n2,0.659721,6664\\n2,0.597875,4972\\n1,0.611117,7421\\n1,0.624383,7363\\n1,0.599754,7665\\n1,0.594708,7702\\n1,0.571975,6978\\n2,0.544842,5099\\n1,0.654692,6825\\n1,0.720975,6211\\n1,0.752542,5905\\n1,0.724121,5823\\n1,0.652792,7458\\n1,0.674254,6891\\n1,0.654042,6779\\n1,0.594704,7442\\n1,0.640792,7335\\n1,0.675512,6879\\n1,0.786613,5463\\n1,0.687508,5687\\n1,0.750629,5531\\n1,0.702038,6227\\n1,0.70265,6660\\n1,0.732337,7403\\n1,0.761367,6241\\n1,0.752533,6207\\n1,0.804913,4840\\n1,0.790396,4672\\n2,0.654054,6569\\n2,0.664796,6290\\n1,0.650271,7264\\n1,0.654683,7446\\n2,0.667933,7499\\n2,0.666042,6969\\n1,0.705196,6031\\n1,0.724125,6830\\n1,0.755683,6786\\n1,0.745583,5713\\n1,0.714642,6591\\n2,0.613025,5870\\n3,0.549912,4459\\n2,0.623125,7410\\n1,0.690017,6966\\n1,0.70645,7592\\n1,0.654054,8173\\n1,0.739263,6861\\n1,0.734217,6904\\n1,0.697604,6685\\n1,0.667933,6597\\n1,0.684987,7105\\n1,0.662896,7216\\n1,0.667308,7580\\n1,0.707088,7261\\n2,0.722867,7175\\n1,0.751267,6824\\n1,0.731079,5464\\n2,0.710246,7013\\n2,0.697621,7273\\n2,0.707717,7534\\n1,0.699508,7286\\n2,0.667942,5786\\n2,0.638267,6299\\n1,0.644579,6544\\n1,0.662254,6883\\n1,0.676779,6784\\n1,0.654037,7347\\n1,0.654688,7605\\n1,0.2424,7148\\n1,0.618071,7865\\n2,0.603554,4549\\n2,0.595967,6530\\n1,0.601025,7006\\n1,0.621854,7375\\n1,0.637008,7765\\n2,0.6471,7582\\n2,0.618696,6053\\n2,0.595996,5255\\n1,0.654688,6917\\n1,0.66605,7040\\n1,0.635733,7697\\n1,0.652779,7713\\n1,0.6894,7350\\n2,0.702654,6140\\n2,0.649,5810\\n1,0.661629,6034\\n1,0.686888,6864\\n1,0.708983,7112\\n2,0.655329,6203\\n1,0.657204,7504\\n2,0.611121,5976\\n1,0.578925,8227\\n1,0.565654,7525\\n1,0.554292,7767\\n1,0.570075,7870\\n1,0.579558,7804\\n1,0.594083,8009\\n1,0.585867,8714\\n1,0.563125,7333\\n2,0.55305,6869\\n2,0.565067,4073\\n1,0.540404,7591\\n1,0.532192,7720\\n1,0.571971,8167\\n1,0.610488,8395\\n1,0.518933,7907\\n1,0.502513,7436\\n1,0.544179,7538\\n1,0.5966130000000001,7733\\n2,0.607975,7393\\n2,0.585863,7415\\n1,0.530296,8555\\n1,0.517663,6889\\n2,0.512,6778\\n3,0.542333,4639\\n2,0.599133,7572\\n2,0.607975,7328\\n1,0.580187,8156\\n1,0.538521,7965\\n2,0.419813,3510\\n2,0.387608,5478\\n2,0.438112,6392\\n1,0.503142,7691\\n1,0.431167,7570\\n1,0.433071,7282\\n1,0.391396,7109\\n1,0.508204,6639\\n2,0.53915,5875\\n1,0.460846,7534\\n1,0.450108,7461\\n2,0.512625,7509\\n2,0.537896,5424\\n1,0.472842,8090\\n1,0.456429,6824\\n1,0.482942,7058\\n1,0.530304,7466\\n1,0.558721,7693\\n2,0.529688,7359\\n2,0.52275,7444\\n2,0.515133,7852\\n2,0.467771,4459\\n3,0.4394,22\\n2,0.309909,1096\\n2,0.3611,5566\\n2,0.369942,5986\\n1,0.356042,5847\\n2,0.323846,5138\\n1,0.329538,5107\\n1,0.308075,5259\\n1,0.281567,5686\\n2,0.274621,5035\\n1,0.341891,5315\\n1,0.35541300000000003,5992\\n1,0.393937,6536\\n1,0.421713,6852\\n1,0.475383,6269\\n2,0.323225,4094\\n1,0.281563,5495\\n2,0.324492,5445\\n1,0.347204,5698\\n1,0.326383,5629\\n1,0.337746,4669\\n2,0.375621,5499\\n2,0.38066700000000003,5634\\n1,0.364892,5146\\n1,0.350371,2425\\n1,0.378779,3910\\n1,0.24874200000000002,2277\\n1,0.257583,2424\\n1,0.33900399999999997,5087\\n2,0.281558,3959\\n1,0.28976199999999996,5260\\n1,0.29842199999999997,5323\\n1,0.323867,5668\\n2,0.316904,5191\\n2,0.35920799999999997,4649\\n1,0.455796,6234\\n1,0.46905399999999997,6606\\n1,0.428012,5729\\n1,0.258204,5375\\n2,0.32195799999999997,5008\\n2,0.38950799999999997,5582\\n2,0.390146,3228\\n2,0.435575,5170\\n2,0.338363,5501\\n2,0.297338,5319\\n1,0.294188,5532\\n1,0.294192,5611\\n1,0.338383,5047\\n2,0.369938,3786\\n2,0.4015,4585\\n1,0.409708,5557\\n1,0.34216199999999997,5267\\n2,0.335217,4128\\n2,0.301767,3623\\n1,0.23611300000000002,1749\\n1,0.259471,1787\\n2,0.2589,920\\n2,0.29446500000000003,1013\\n3,0.220333,441\\n2,0.226642,2114\\n2,0.255046,3095\\n2,0.2424,1341\\n1,0.2317,1796\\n2,0.223487,2729\\n'}"
            ]
          },
          "metadata": {},
          "execution_count": 1
        }
      ],
      "source": [
        "from google.colab import files\n",
        "files.upload()"
      ]
    },
    {
      "cell_type": "code",
      "execution_count": 2,
      "metadata": {
        "id": "eXlUJsfRMoY-"
      },
      "outputs": [],
      "source": [
        "import pandas as pd\n",
        "\n",
        "dados = pd.read_csv('Bicicletas.csv')"
      ]
    },
    {
      "cell_type": "markdown",
      "metadata": {
        "id": "Mj7-jJXsMoY-"
      },
      "source": [
        "### Conhecendo a base de dados"
      ]
    },
    {
      "cell_type": "code",
      "execution_count": 3,
      "metadata": {
        "id": "ZLqdjROqMoY-",
        "outputId": "7e041cc1-f1a8-4ed7-d275-4d1fd8cda6c7",
        "colab": {
          "base_uri": "https://localhost:8080/",
          "height": 202
        }
      },
      "outputs": [
        {
          "output_type": "execute_result",
          "data": {
            "text/html": [
              "\n",
              "  <div id=\"df-5e7876a7-03ac-4ea6-a5f2-fbf254c13fdb\">\n",
              "    <div class=\"colab-df-container\">\n",
              "      <div>\n",
              "<style scoped>\n",
              "    .dataframe tbody tr th:only-of-type {\n",
              "        vertical-align: middle;\n",
              "    }\n",
              "\n",
              "    .dataframe tbody tr th {\n",
              "        vertical-align: top;\n",
              "    }\n",
              "\n",
              "    .dataframe thead th {\n",
              "        text-align: right;\n",
              "    }\n",
              "</style>\n",
              "<table border=\"1\" class=\"dataframe\">\n",
              "  <thead>\n",
              "    <tr style=\"text-align: right;\">\n",
              "      <th></th>\n",
              "      <th>clima</th>\n",
              "      <th>temperatura</th>\n",
              "      <th>bicicletas_alugadas</th>\n",
              "    </tr>\n",
              "  </thead>\n",
              "  <tbody>\n",
              "    <tr>\n",
              "      <th>0</th>\n",
              "      <td>2</td>\n",
              "      <td>0.363625</td>\n",
              "      <td>985</td>\n",
              "    </tr>\n",
              "    <tr>\n",
              "      <th>1</th>\n",
              "      <td>2</td>\n",
              "      <td>0.353739</td>\n",
              "      <td>801</td>\n",
              "    </tr>\n",
              "    <tr>\n",
              "      <th>2</th>\n",
              "      <td>1</td>\n",
              "      <td>0.189405</td>\n",
              "      <td>1349</td>\n",
              "    </tr>\n",
              "    <tr>\n",
              "      <th>3</th>\n",
              "      <td>1</td>\n",
              "      <td>0.212122</td>\n",
              "      <td>1562</td>\n",
              "    </tr>\n",
              "    <tr>\n",
              "      <th>4</th>\n",
              "      <td>1</td>\n",
              "      <td>0.229270</td>\n",
              "      <td>1600</td>\n",
              "    </tr>\n",
              "  </tbody>\n",
              "</table>\n",
              "</div>\n",
              "      <button class=\"colab-df-convert\" onclick=\"convertToInteractive('df-5e7876a7-03ac-4ea6-a5f2-fbf254c13fdb')\"\n",
              "              title=\"Convert this dataframe to an interactive table.\"\n",
              "              style=\"display:none;\">\n",
              "        \n",
              "  <svg xmlns=\"http://www.w3.org/2000/svg\" height=\"24px\"viewBox=\"0 0 24 24\"\n",
              "       width=\"24px\">\n",
              "    <path d=\"M0 0h24v24H0V0z\" fill=\"none\"/>\n",
              "    <path d=\"M18.56 5.44l.94 2.06.94-2.06 2.06-.94-2.06-.94-.94-2.06-.94 2.06-2.06.94zm-11 1L8.5 8.5l.94-2.06 2.06-.94-2.06-.94L8.5 2.5l-.94 2.06-2.06.94zm10 10l.94 2.06.94-2.06 2.06-.94-2.06-.94-.94-2.06-.94 2.06-2.06.94z\"/><path d=\"M17.41 7.96l-1.37-1.37c-.4-.4-.92-.59-1.43-.59-.52 0-1.04.2-1.43.59L10.3 9.45l-7.72 7.72c-.78.78-.78 2.05 0 2.83L4 21.41c.39.39.9.59 1.41.59.51 0 1.02-.2 1.41-.59l7.78-7.78 2.81-2.81c.8-.78.8-2.07 0-2.86zM5.41 20L4 18.59l7.72-7.72 1.47 1.35L5.41 20z\"/>\n",
              "  </svg>\n",
              "      </button>\n",
              "      \n",
              "  <style>\n",
              "    .colab-df-container {\n",
              "      display:flex;\n",
              "      flex-wrap:wrap;\n",
              "      gap: 12px;\n",
              "    }\n",
              "\n",
              "    .colab-df-convert {\n",
              "      background-color: #E8F0FE;\n",
              "      border: none;\n",
              "      border-radius: 50%;\n",
              "      cursor: pointer;\n",
              "      display: none;\n",
              "      fill: #1967D2;\n",
              "      height: 32px;\n",
              "      padding: 0 0 0 0;\n",
              "      width: 32px;\n",
              "    }\n",
              "\n",
              "    .colab-df-convert:hover {\n",
              "      background-color: #E2EBFA;\n",
              "      box-shadow: 0px 1px 2px rgba(60, 64, 67, 0.3), 0px 1px 3px 1px rgba(60, 64, 67, 0.15);\n",
              "      fill: #174EA6;\n",
              "    }\n",
              "\n",
              "    [theme=dark] .colab-df-convert {\n",
              "      background-color: #3B4455;\n",
              "      fill: #D2E3FC;\n",
              "    }\n",
              "\n",
              "    [theme=dark] .colab-df-convert:hover {\n",
              "      background-color: #434B5C;\n",
              "      box-shadow: 0px 1px 3px 1px rgba(0, 0, 0, 0.15);\n",
              "      filter: drop-shadow(0px 1px 2px rgba(0, 0, 0, 0.3));\n",
              "      fill: #FFFFFF;\n",
              "    }\n",
              "  </style>\n",
              "\n",
              "      <script>\n",
              "        const buttonEl =\n",
              "          document.querySelector('#df-5e7876a7-03ac-4ea6-a5f2-fbf254c13fdb button.colab-df-convert');\n",
              "        buttonEl.style.display =\n",
              "          google.colab.kernel.accessAllowed ? 'block' : 'none';\n",
              "\n",
              "        async function convertToInteractive(key) {\n",
              "          const element = document.querySelector('#df-5e7876a7-03ac-4ea6-a5f2-fbf254c13fdb');\n",
              "          const dataTable =\n",
              "            await google.colab.kernel.invokeFunction('convertToInteractive',\n",
              "                                                     [key], {});\n",
              "          if (!dataTable) return;\n",
              "\n",
              "          const docLinkHtml = 'Like what you see? Visit the ' +\n",
              "            '<a target=\"_blank\" href=https://colab.research.google.com/notebooks/data_table.ipynb>data table notebook</a>'\n",
              "            + ' to learn more about interactive tables.';\n",
              "          element.innerHTML = '';\n",
              "          dataTable['output_type'] = 'display_data';\n",
              "          await google.colab.output.renderOutput(dataTable, element);\n",
              "          const docLink = document.createElement('div');\n",
              "          docLink.innerHTML = docLinkHtml;\n",
              "          element.appendChild(docLink);\n",
              "        }\n",
              "      </script>\n",
              "    </div>\n",
              "  </div>\n",
              "  "
            ],
            "text/plain": [
              "   clima  temperatura  bicicletas_alugadas\n",
              "0      2     0.363625                  985\n",
              "1      2     0.353739                  801\n",
              "2      1     0.189405                 1349\n",
              "3      1     0.212122                 1562\n",
              "4      1     0.229270                 1600"
            ]
          },
          "metadata": {},
          "execution_count": 3
        }
      ],
      "source": [
        "dados.head()"
      ]
    },
    {
      "cell_type": "code",
      "execution_count": 4,
      "metadata": {
        "id": "Sn1DiomfMoY_",
        "outputId": "c26e72d1-677a-4a99-808b-30e1cf7f9d32",
        "colab": {
          "base_uri": "https://localhost:8080/"
        }
      },
      "outputs": [
        {
          "output_type": "execute_result",
          "data": {
            "text/plain": [
              "(731, 3)"
            ]
          },
          "metadata": {},
          "execution_count": 4
        }
      ],
      "source": [
        "dados.shape"
      ]
    },
    {
      "cell_type": "code",
      "execution_count": 5,
      "metadata": {
        "id": "XZKqyD0qMoY_"
      },
      "outputs": [],
      "source": [
        "import matplotlib.pyplot as plt"
      ]
    },
    {
      "cell_type": "code",
      "execution_count": 8,
      "metadata": {
        "id": "dBWG-PMVMoY_",
        "outputId": "8a211d52-1598-4639-ee51-8bcf5abc2c4b",
        "colab": {
          "base_uri": "https://localhost:8080/",
          "height": 305
        }
      },
      "outputs": [
        {
          "output_type": "execute_result",
          "data": {
            "text/plain": [
              "Text(0.5, 0, 'temperatura')"
            ]
          },
          "metadata": {},
          "execution_count": 8
        },
        {
          "output_type": "display_data",
          "data": {
            "image/png": "[encoded data removed]",
            "text/plain": [
              "<Figure size 432x288 with 1 Axes>"
            ]
          },
          "metadata": {
            "needs_background": "light"
          }
        }
      ],
      "source": [
        "#Plotando o gráfico de correlação\n",
        "plt.rcParams.update({'font.size': 14})\n",
        "plt.scatter(dados['temperatura'],dados['bicicletas_alugadas'])\n",
        "plt.ylabel('bicicletas_alugadas')\n",
        "plt.xlabel('temperatura')"
      ]
    },
    {
      "cell_type": "code",
      "execution_count": 7,
      "metadata": {
        "id": "3KLzSjxdMoY_",
        "outputId": "72307bd2-fe2e-4ceb-d0fa-eea06ab584c6",
        "colab": {
          "base_uri": "https://localhost:8080/",
          "height": 305
        }
      },
      "outputs": [
        {
          "output_type": "execute_result",
          "data": {
            "text/plain": [
              "Text(0.5, 0, 'temperatura')"
            ]
          },
          "metadata": {},
          "execution_count": 7
        },
        {
          "output_type": "display_data",
          "data": {
            "image/png": "[encoded data removed]",
            "text/plain": [
              "<Figure size 432x288 with 1 Axes>"
            ]
          },
          "metadata": {
            "needs_background": "light"
          }
        }
      ],
      "source": [
        "#Plotando o gráfico de correlação\n",
        "plt.rcParams.update({'font.size': 14})\n",
        "plt.scatter(dados['temperatura'],dados['bicicletas_alugadas'])\n",
        "plt.ylabel('bicicletas_alugadas')\n",
        "plt.xlabel('temperatura')"
      ]
    },
    {
      "cell_type": "markdown",
      "metadata": {
        "id": "Z345rSAmMoZA"
      },
      "source": [
        "### Normalizando a base de dados"
      ]
    },
    {
      "cell_type": "code",
      "execution_count": 16,
      "metadata": {
        "id": "D-N4cvOvMoZA"
      },
      "outputs": [],
      "source": [
        "import numpy as np"
      ]
    },
    {
      "cell_type": "code",
      "execution_count": 17,
      "metadata": {
        "id": "DyWHVOfJMoZA"
      },
      "outputs": [],
      "source": [
        "#Colocando apenas os valores da serie pandas em y\n",
        "y = dados['bicicletas_alugadas'].values"
      ]
    },
    {
      "cell_type": "code",
      "execution_count": 23,
      "metadata": {
        "id": "QFUOxP-fMoZA",
        "outputId": "bacefd85-0443-4d86-a82c-29530754e124",
        "colab": {
          "base_uri": "https://localhost:8080/"
        }
      },
      "outputs": [
        {
          "output_type": "stream",
          "name": "stdout",
          "text": [
            "[[2.       0.363625]\n",
            " [2.       0.353739]\n",
            " [1.       0.189405]\n",
            " ...\n",
            " [2.       0.2424  ]\n",
            " [1.       0.2317  ]\n",
            " [2.       0.223487]]\n",
            "+++++++++++++++++++++++\n",
            "[2.       0.363625]\n"
          ]
        }
      ],
      "source": [
        "#Colocando apenas os valores do DataFrame pandas em x\n",
        "X = dados[['clima','temperatura']].values\n",
        "print(X)\n",
        "print(\"+++++++++++++++++++++++\")\n",
        "print(X[0])"
      ]
    },
    {
      "cell_type": "code",
      "execution_count": 19,
      "metadata": {
        "id": "x7G-kY1fMoZB",
        "outputId": "2375c965-71e5-4b0f-da12-1c60a8b5a396",
        "colab": {
          "base_uri": "https://localhost:8080/"
        }
      },
      "outputs": [
        {
          "output_type": "stream",
          "name": "stdout",
          "text": [
            "[[0.66666667 0.43242565]\n",
            " [0.66666667 0.42066914]\n",
            " [0.33333333 0.22524188]\n",
            " ...\n",
            " [0.66666667 0.28826395]\n",
            " [0.33333333 0.27553942]\n",
            " [0.66666667 0.26577246]]\n",
            "+++++++++++++++++++++++\n",
            "[0.66666667 0.43242565]\n"
          ]
        }
      ],
      "source": [
        "X = X/np.amax(X,axis=0)\n",
        "print(X)\n",
        "print(\"+++++++++++++++++++++++\")\n",
        "print(X[0])"
      ]
    },
    {
      "cell_type": "code",
      "execution_count": 20,
      "metadata": {
        "id": "yvVokpGSMoZB",
        "outputId": "804765b4-5bb4-49e3-edee-6f50797d82d2",
        "colab": {
          "base_uri": "https://localhost:8080/"
        }
      },
      "outputs": [
        {
          "output_type": "stream",
          "name": "stdout",
          "text": [
            "[0.11303649 0.09192105 0.15480835 0.17925178 0.18361258 0.18430112\n",
            " 0.17328437 0.11005279 0.09433096 0.15159513]\n"
          ]
        }
      ],
      "source": [
        "ymax=np.amax(y)\n",
        "y = y/ymax\n",
        "print(y[0:10])"
      ]
    },
    {
      "cell_type": "code",
      "source": [
        "def sigmoide(soma):\n",
        "  \n",
        "  return 1/(1+np.exp(-soma))"
      ],
      "metadata": {
        "id": "x0wjR7-LOwok"
      },
      "execution_count": 24,
      "outputs": []
    },
    {
      "cell_type": "code",
      "source": [
        "#Se o valor for negativo retorna 0, se não retorna o proprio valor\n",
        "def relu(soma):\n",
        "  \n",
        "  return np.maximum(0,soma)"
      ],
      "metadata": {
        "id": "W6DUCZtpRO0T"
      },
      "execution_count": 25,
      "outputs": []
    },
    {
      "cell_type": "code",
      "source": [
        "# 2 nodos de entrada; 1 camada escondida com 50 nodos; uma camada de saída com uma saída.\n",
        "# 2input  50 nodos\n",
        "#         ()\n",
        "#   /       \\\n",
        "# ()-     ()- (output)\n",
        "#   \\     ()/\n",
        "#   /     .\n",
        "# ()-     .\n",
        "#   \\     ()\n",
        "arquitetura = [{\"dim_entrada\":2, \"dim_saida\":50, \"ativacao\":\"relu\"},\n",
        "               {\"dim_entrada\":50, \"dim_saida\":1, \"ativacao\":\"sigmoide\"}\n",
        "]"
      ],
      "metadata": {
        "id": "xo9znLlzRgH4"
      },
      "execution_count": 26,
      "outputs": []
    },
    {
      "cell_type": "code",
      "source": [
        "def inicia_camadas(arquitetura, seed = 99):\n",
        "  \n",
        "  np.random.seed(seed)\n",
        "  \n",
        "  #camada de entrada não é camada\n",
        "  numero_de_camadas = len(arquitetura)\n",
        "\n",
        "  valores_parametros = {}\n",
        "\n",
        "  for indice, camada in enumerate(arquitetura):\n",
        "    # para indice não começar com o valor 0\n",
        "    indice_camada = indice + 1\n",
        "\n",
        "    tamanho_camada_entrada = camada[\"dim_entrada\"]\n",
        "    tamanho_camada_saida = camada[\"dim_saida\"]\n",
        "\n",
        "    #Peso camada = algo randomico\n",
        "    valores_parametros['P' + str(indice_camada)] = np.random.randn(tamanho_camada_saida, tamanho_camada_entrada)\n",
        "\n",
        "    valores_parametros['B' + str(indice_camada)] = np.random.randn(tamanho_camada_saida, 1) * 0.1\n",
        "\n",
        "    return valores_parametros"
      ],
      "metadata": {
        "id": "DXC9oKgWSVUK"
      },
      "execution_count": 28,
      "outputs": []
    },
    {
      "cell_type": "code",
      "source": [
        "def propaga_uma_camada(Ativado_anterior, Pesos_atual, b_atual, ativacao=\"relu\"):\n",
        "  \n",
        "  Saida_atual = np.dot(Pesos_atual, Ativado_anterior) + b_atual\n",
        "\n",
        "  if ativacao is \"relu\":\n",
        "    func_ativacao = relu\n",
        "  elif ativacao is \"sigmoide\":\n",
        "    func_ativacao = sigmoide\n",
        "\n",
        "  return func_ativacao(Saida_atual), Saida_atual"
      ],
      "metadata": {
        "id": "5JLf9s3BSVKE"
      },
      "execution_count": 29,
      "outputs": []
    },
    {
      "cell_type": "code",
      "source": [
        "def propaga_total(X, valores_parametros, arquitetura):\n",
        "  \n",
        "  memoria = {}\n",
        "\n",
        "  Ativado_atual = X\n",
        "\n",
        "  for indice, camada in enumerate(arquitetura):\n",
        "\n",
        "    indice_camada = indice + 1\n",
        "    Ativado_anterior = Ativado_atual\n",
        "\n",
        "    func_ativacao_atual = camada[\"ativacao\"]\n",
        "\n",
        "    Pesos_atual = valores_parametros[\"P\" + str(indice_camada)]\n",
        "    Bias_atual = valores_parametros[\"B\" + str(indice_camada)]\n",
        "\n",
        "    Ativado_atual, Saida_atual = propaga_uma_camada(Ativado_anterior, Pesos_atual, \n",
        "                       Bias_atual, func_ativacao_atual)\n",
        "    \n",
        "    memoria[\"A\" + str(indice)] = Ativado_anterior\n",
        "    memoria[\"Z\" + str(indice_camada)] = Saida_atual\n",
        "\n",
        "    #Ativado atual na hora deste retorno será a saída da rede\n",
        "    return Ativado_atual, memoria"
      ],
      "metadata": {
        "id": "eW2jjMDkSU3u"
      },
      "execution_count": 30,
      "outputs": []
    },
    {
      "cell_type": "code",
      "source": [
        "valores_parametros = inicia_camadas(arquitetura, seed=99)"
      ],
      "metadata": {
        "id": "A3L1BGyjYfqN"
      },
      "execution_count": 31,
      "outputs": []
    },
    {
      "cell_type": "code",
      "source": [
        "y_estimado, memoria = propaga_total(np.transpose(X), valores_parametros, arquitetura)"
      ],
      "metadata": {
        "id": "Bhc7s7rXYfiZ"
      },
      "execution_count": 32,
      "outputs": []
    },
    {
      "cell_type": "code",
      "source": [
        "y_estimado[0,0]"
      ],
      "metadata": {
        "id": "vmVZe16bYfZm",
        "outputId": "d128777c-3045-4b5b-98ca-d2fb3b0d5492",
        "colab": {
          "base_uri": "https://localhost:8080/"
        }
      },
      "execution_count": 33,
      "outputs": [
        {
          "output_type": "execute_result",
          "data": {
            "text/plain": [
              "0.35465105360797555"
            ]
          },
          "metadata": {},
          "execution_count": 33
        }
      ]
    },
    {
      "cell_type": "code",
      "source": [
        "y_estimado[0,0]*ymax"
      ],
      "metadata": {
        "id": "TpCQf_MacQj8",
        "outputId": "09eda249-3eab-4072-8a05-9481a21b576f",
        "colab": {
          "base_uri": "https://localhost:8080/"
        }
      },
      "execution_count": 34,
      "outputs": [
        {
          "output_type": "execute_result",
          "data": {
            "text/plain": [
              "3090.429281139899"
            ]
          },
          "metadata": {},
          "execution_count": 34
        }
      ]
    },
    {
      "cell_type": "code",
      "source": [
        "y[0]*ymax"
      ],
      "metadata": {
        "id": "6u_ehr49cV0v",
        "outputId": "7dbacae3-426f-4f7b-8df0-2cb7fab406ae",
        "colab": {
          "base_uri": "https://localhost:8080/"
        }
      },
      "execution_count": 36,
      "outputs": [
        {
          "output_type": "execute_result",
          "data": {
            "text/plain": [
              "985.0000000000001"
            ]
          },
          "metadata": {},
          "execution_count": 36
        }
      ]
    },
    {
      "cell_type": "code",
      "source": [
        "def valor_de_custo(Y_predito, Y):\n",
        "  m = Y_predito.shape[1]\n",
        "  custo = -1/m *(np.dot(Y,np.log(Y_predito.T) + np.dot(1-Y,np.log(1 - Y_predito).T)))\n",
        "  return np.squeeze(custo)"
      ],
      "metadata": {
        "id": "R0es5dphcbiR"
      },
      "execution_count": 37,
      "outputs": []
    },
    {
      "cell_type": "code",
      "source": [
        "def atualiza(valores_parametros, gradientes, arquitetura, taxa_aprendizagem):\n",
        "  for indice_camada, camada in enumerate(arquitetura, 1):\n",
        "    valores_parametros[\"P\", str(indice_camada)] -= taxa_aprendizagem * gradientes[\n",
        "                                                    \"dP\" + str[indice_camada]                              \n",
        "    ]\n",
        "    valores_parametros[\"b\" + str(indice_camada)] -= taxa_aprendizagem * gradientes[\n",
        "                                                    \"dB\" + str(indice_camada)                               \"\"\n",
        "    ]\n",
        "    return valores_parametros"
      ],
      "metadata": {
        "id": "udFmeg5kcqTi"
      },
      "execution_count": null,
      "outputs": []
    },
    {
      "cell_type": "code",
      "source": [
        ""
      ],
      "metadata": {
        "id": "cXVejjNNcqGM"
      },
      "execution_count": null,
      "outputs": []
    }
  ],
  "metadata": {
    "kernelspec": {
      "display_name": "Python 3",
      "language": "python",
      "name": "python3"
    },
    "language_info": {
      "codemirror_mode": {
        "name": "ipython",
        "version": 3
      },
      "file_extension": ".py",
      "mimetype": "text/x-python",
      "name": "python",
      "nbconvert_exporter": "python",
      "pygments_lexer": "ipython3",
      "version": "3.7.3"
    },
    "colab": {
      "name": "Bikes_aula1.ipynb",
      "provenance": []
    },
    "accelerator": "GPU"
  },
  "nbformat": 4,
  "nbformat_minor": 0
}